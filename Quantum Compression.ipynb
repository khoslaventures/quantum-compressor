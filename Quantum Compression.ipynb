{
 "cells": [
  {
   "cell_type": "code",
   "execution_count": null,
   "metadata": {},
   "outputs": [],
   "source": [
    "import cirq\n",
    "import numpy as np\n",
    "import random as rand\n",
    "import matplotlib.pyplot as plt\n",
    "from ising_circuit import IsingCircuit\n",
    "import json\n",
    "\n",
    "from cirq import Circuit, ops, linalg, protocols"
   ]
  },
  {
   "cell_type": "markdown",
   "metadata": {},
   "source": [
    "# Quantum Compression\n",
    "\n",
    "\n",
    "## Introduction\n",
    "Goal: Simulate an Ising chain of $n$-qubits, using only $\\log n$ qubits. Specifically, the paper does a four qubit Ising chain using two qubits. We must decompose the circuits for compressed simulation into the available gate set. We must also run the experiment often enough so that statistical errors are reduced. Systematic errors must be estimated using independent controlled circuits of similar complexity to the one of interest. Since we are running in simulation via Cirq, this may be less of an issue.\n",
    "\n",
    "We use the following set up in Cirq for the rest of the tutorial:"
   ]
  },
  {
   "cell_type": "code",
   "execution_count": null,
   "metadata": {
    "scrolled": true
   },
   "outputs": [],
   "source": [
    "qubits = cirq.LineQubit.range(3)\n",
    "qubit0, qubit1, qubit2 = qubits\n",
    "\n",
    "circuit = cirq.Circuit()"
   ]
  },
  {
   "cell_type": "markdown",
   "metadata": {},
   "source": [
    "## Step 1\n",
    "Prepare the input state $\\rho_{i n} = \\frac{1}{2^{m-1}} I^{\\otimes m-1} \\otimes |+_{y} \\rangle \\langle+_{y} |$ where $Y |+_{y} \\rangle=|+_{y} \\rangle$ by applying $S^{\\dagger}H$ on qubit $0$, $H$ on an auxilirary qubit $2$, and $CNOT$ on qubits $1$ and $2$ with qubit $1$ being the target and qubit $2$ the control."
   ]
  },
  {
   "cell_type": "code",
   "execution_count": null,
   "metadata": {},
   "outputs": [],
   "source": [
    "circuit.append([cirq.H(qubit0)])\n",
    "circuit.append([cirq.S(qubit0)**-1])\n",
    "circuit.append([cirq.H(qubit2)])\n",
    "circuit.append([cirq.CNOT(control=qubit2, target=qubit1)])\n",
    "\n",
    "circuit"
   ]
  },
  {
   "cell_type": "markdown",
   "metadata": {},
   "source": [
    "## Step 2\n",
    "\n",
    "Evolve the system up to the desired value of $J$, which in this case is $J = 1$, by decomposing the evolutionary operator $W(J)=\\prod_{l=1}^{L(J)} U_{d} R_{l}^{T} R_{0}^{T}$ into the Clifford+T gate set. This is done, rather than decomposing each step in the adiabatic evolution $U_{d} R_{l}^{T} R_{0}^{T}$, in order to keep the total circuit depth practically feasible."
   ]
  },
  {
   "cell_type": "code",
   "execution_count": null,
   "metadata": {},
   "outputs": [],
   "source": [
    "circuit.append([cirq.H(qubit0)])\n",
    "circuit.append([cirq.CNOT(control=qubit0, target=qubit1)])\n",
    "circuit.append([cirq.Z(qubit0)])\n",
    "circuit.append([cirq.H(qubit0)])\n",
    "circuit.append([cirq.CNOT(control=qubit0, target=qubit1)])\n",
    "circuit.append([cirq.S(qubit0)])\n",
    "circuit.append([cirq.T(qubit1)])\n",
    "circuit.append([cirq.H(qubit0)])\n",
    "circuit.append([cirq.Z(qubit1)])\n",
    "circuit.append([cirq.CNOT(control=qubit0, target=qubit1)])\n",
    "circuit.append([cirq.T(qubit0)])\n",
    "circuit.append([cirq.H(qubit0)])\n",
    "circuit.append([cirq.T(qubit0)])\n",
    "\n",
    "circuit"
   ]
  },
  {
   "cell_type": "markdown",
   "metadata": {},
   "source": [
    "Apply $(THS)^4$ on qubit $0$:"
   ]
  },
  {
   "cell_type": "code",
   "execution_count": null,
   "metadata": {},
   "outputs": [],
   "source": [
    "for _ in range(4):\n",
    "    circuit.append([cirq.S(qubit0)])\n",
    "    circuit.append([cirq.H(qubit0)])\n",
    "    circuit.append([cirq.T(qubit0)])\n",
    "\n",
    "circuit"
   ]
  },
  {
   "cell_type": "code",
   "execution_count": null,
   "metadata": {},
   "outputs": [],
   "source": [
    "circuit.append([cirq.H(qubit0)])\n",
    "circuit.append([cirq.T(qubit0)])\n",
    "circuit.append([cirq.H(qubit0)])\n",
    "circuit.append([cirq.T(qubit0)**-1])\n",
    "circuit.append([cirq.H(qubit0)])\n",
    "circuit.append([cirq.T(qubit0)**-1])\n",
    "circuit.append([cirq.H(qubit0)])\n",
    "circuit.append([cirq.T(qubit0)])\n",
    "circuit.append([cirq.Z(qubit0)])\n",
    "circuit.append([cirq.H(qubit0)])\n",
    "\n",
    "circuit"
   ]
  },
  {
   "cell_type": "markdown",
   "metadata": {},
   "source": [
    "## Step 3\n",
    "\n",
    "Measure $Y$ on qubit $m$ to obtain the magnetization. In this case, $m = \\log_{2}(4) - 1 = 1$. By nature of the rotation matrices in the matchgate circuit construction (Jozsa et al.), the $Z$ expectation of qubit $0$ after the circuit has completed $\\langle Z_{0} \\rangle$ is equal to the $Y$ expectation of qubit $m$ $\\langle Y_{m} \\rangle$, so a standard basis measurement made. Measuring the state $|0\\rangle$ will correspond to an eigenvalue of $+1$ and the state $|1\\rangle$ to an eigenvalue of $-1$. The expectation is equal to $\\langle Y_{m} \\rangle = -M(J)$, the magnetization as a function of $J$ (Hebenstreait et al.)."
   ]
  },
  {
   "cell_type": "markdown",
   "metadata": {},
   "source": [
    "### Wave Function\n"
   ]
  },
  {
   "cell_type": "markdown",
   "metadata": {},
   "source": [
    "Preserve the wave function of the system prior to measurement:"
   ]
  },
  {
   "cell_type": "code",
   "execution_count": null,
   "metadata": {},
   "outputs": [],
   "source": [
    "simulator = cirq.Simulator()\n",
    "wave_function = simulator.simulate(circuit, qubit_order=qubits)"
   ]
  },
  {
   "cell_type": "code",
   "execution_count": null,
   "metadata": {},
   "outputs": [],
   "source": [
    "wave_function"
   ]
  },
  {
   "cell_type": "markdown",
   "metadata": {},
   "source": [
    "Calculate the magnetization $M(J)$ from the wave function by decomposing the final state into the $+1$ and $-1$ eigenstates, determining the total probability for each, and computing the expectation $\\langle Y_{m} \\rangle$:"
   ]
  },
  {
   "cell_type": "code",
   "execution_count": null,
   "metadata": {
    "scrolled": true
   },
   "outputs": [],
   "source": [
    "final_state = wave_function.final_state\n",
    "\n",
    "p_1_wfn = (sum([np.absolute(i)**2 for i in final_state[0:4]]))\n",
    "p_n1_wfn = (sum([np.absolute(i)**2 for i in final_state[4:8]]))\n",
    "\n",
    "Y_wfn = 1 * p_1_wfn + -1 * p_n1_wfn\n",
    "\n",
    "M_wfn = -Y_wfn\n",
    "M_wfn"
   ]
  },
  {
   "cell_type": "markdown",
   "metadata": {},
   "source": [
    "# Measured Outcome\n",
    "\n",
    "Apply the standard basis measurement operator to qubit $0$:"
   ]
  },
  {
   "cell_type": "code",
   "execution_count": null,
   "metadata": {},
   "outputs": [],
   "source": [
    "circuit.append([cirq.measure(qubit0, key='x')])\n",
    "circuit"
   ]
  },
  {
   "cell_type": "markdown",
   "metadata": {},
   "source": [
    "Repeatedly run the circuit for $n=1,000,000$ iterations:"
   ]
  },
  {
   "cell_type": "code",
   "execution_count": null,
   "metadata": {},
   "outputs": [],
   "source": [
    "n = 1000000\n",
    "results = simulator.run(circuit, repetitions=n)\n",
    "results"
   ]
  },
  {
   "cell_type": "code",
   "execution_count": null,
   "metadata": {},
   "outputs": [],
   "source": [
    "hist = results.histogram(key='x')\n",
    "\n",
    "for k in hist:\n",
    "    v = hist[k]\n",
    "    hist[k] = v\n",
    "    \n",
    "print(hist)\n",
    "\n",
    "plt.bar(range(len(hist)), hist.values(), align='center')\n",
    "plt.xticks(range(len(hist)), list(hist.keys()))\n",
    "\n",
    "plt.show()"
   ]
  },
  {
   "cell_type": "markdown",
   "metadata": {},
   "source": [
    "Calculate the magnetization $M(J)$ from the measured outcomes by determining the relative frequency of each eigenstate and computing the expectation $\\langle Y_{m} \\rangle$:"
   ]
  },
  {
   "cell_type": "code",
   "execution_count": null,
   "metadata": {},
   "outputs": [],
   "source": [
    "f_1_meas = hist[0] / n\n",
    "f_n1_meas = hist[1] / n\n",
    "\n",
    "Y_meas = 1 * f_1_meas - 1 * f_n1_meas\n",
    "\n",
    "M_meas = - Y_meas\n",
    "M_meas"
   ]
  },
  {
   "cell_type": "markdown",
   "metadata": {},
   "source": [
    "# Final Results\n",
    "We can now compare our three results: the measured outcomes (finite number of runs), the wave function (limit of infinite runs), and the theoretical prediction given by the Ising model (Hebenstreait et al.):"
   ]
  },
  {
   "cell_type": "code",
   "execution_count": null,
   "metadata": {},
   "outputs": [],
   "source": [
    "M_theor = -0.81\n",
    "\n",
    "err_wfn = 100 * (M_theor - M_wfn) / M_theor\n",
    "err_meas = 100 * (M_theor - M_meas) / M_theor\n",
    "\n",
    "err_wfn, err_meas"
   ]
  },
  {
   "cell_type": "markdown",
   "metadata": {},
   "source": [
    "Both of our results have about 5% error, which is consistent with the results of Hebenstreait et al. for a four-qubit spin chain simulation.\n"
   ]
  },
  {
   "cell_type": "markdown",
   "metadata": {},
   "source": [
    "# Ising Circuit"
   ]
  },
  {
   "cell_type": "markdown",
   "metadata": {},
   "source": [
    "Here, we run a much deeper, non-decomposed circuit. The benefit here is that rather than a specific circuit, we can produce circuits that simulate $n$ qubit ising chains with $m = log(n) + 1$ qubits accurately at the cost of circuit depth. The following is a circuit that simulates a four-qubit ising chain like above. The parameters for ising_circuit() are: $n$, the number of qubits in the simulation, $J$, the value we want to evolve our hamiltonian to, $J_{max}$, the highest $J$-value we expect to evolve to, $L$, the number of steps in our evolution minus one, and $T$, the total time for evolution."
   ]
  },
  {
   "cell_type": "code",
   "execution_count": null,
   "metadata": {},
   "outputs": [],
   "source": [
    "simCircuit = IsingCircuit(4, 1, 2, 200, 10)\n",
    "simCircuit.circuit"
   ]
  },
  {
   "cell_type": "code",
   "execution_count": null,
   "metadata": {},
   "outputs": [],
   "source": [
    "simulator = cirq.Simulator()\n",
    "simCircuit.apply_measurement()\n",
    "result_new = simulator.run(simCircuit.circuit, repetitions=1000)\n",
    "result_new"
   ]
  },
  {
   "cell_type": "code",
   "execution_count": null,
   "metadata": {},
   "outputs": [],
   "source": [
    "hist = result_new.histogram(key='x')\n",
    "\n",
    "for k in hist:\n",
    "    v = hist[k]\n",
    "    hist[k] = v\n",
    "    \n",
    "print(hist)\n",
    "\n",
    "plt.bar(range(len(hist)), hist.values(), align='center')\n",
    "plt.xticks(range(len(hist)), list(hist.keys()))\n",
    "\n",
    "plt.show()"
   ]
  },
  {
   "cell_type": "code",
   "execution_count": null,
   "metadata": {},
   "outputs": [],
   "source": [
    "f_1_meas = hist[0] / (hist[0] + hist[1])\n",
    "f_n1_meas = hist[1] / (hist[0] + hist[1])\n",
    "\n",
    "Y_meas = 1 * f_1_meas - 1 * f_n1_meas\n",
    "\n",
    "M_meas = - Y_meas\n",
    "M_meas"
   ]
  },
  {
   "cell_type": "markdown",
   "metadata": {},
   "source": [
    "Again, we can compare the result of the circuit to the result theoretical result of the adiabatic evolution."
   ]
  },
  {
   "cell_type": "code",
   "execution_count": null,
   "metadata": {},
   "outputs": [],
   "source": [
    "M_theor = -0.81\n",
    "err_meas = 100 * (M_theor - M_meas) / M_theor\n",
    "err_meas"
   ]
  },
  {
   "cell_type": "markdown",
   "metadata": {},
   "source": [
    "Here, we can see that with the larger, non-decomposed circuit, the results are more accurate at the cost of longer runtime."
   ]
  },
  {
   "cell_type": "markdown",
   "metadata": {},
   "source": [
    "# Calculate M(J) for J=0 to J=2\n",
    "\n",
    "To make a comparison between the paper on \"Compressed quantum computation using the IBM Quantum Experience\", we will recreate the same graph for  $M(J)$ vs $J$ for $J=0$ to $J=2$."
   ]
  },
  {
   "cell_type": "code",
   "execution_count": null,
   "metadata": {},
   "outputs": [],
   "source": [
    "j_vals = list(np.linspace(0, 2, 13))\n",
    "j_vals"
   ]
  },
  {
   "cell_type": "code",
   "execution_count": null,
   "metadata": {},
   "outputs": [],
   "source": [
    "def run_circuit(IsingCircuits):\n",
    "    return [simulator.run(ic.circuit, repetitions=1000) for ic in IsingCircuits]\n",
    "\n",
    "def get_measurement_outcomes(j_vals, results):\n",
    "    outcomes = dict()\n",
    "    for i, r in enumerate(results):\n",
    "        j = j_vals[i]\n",
    "        hist = r.histogram(key='x')\n",
    "        for k in hist:\n",
    "            v = hist[k]\n",
    "            hist[k] = v\n",
    "        \n",
    "        f_1_meas = hist[0] / (hist[0] + hist[1])\n",
    "        f_n1_meas = hist[1] / (hist[0] + hist[1])\n",
    "        Y_meas = 1 * f_1_meas - 1 * f_n1_meas\n",
    "        M_meas = - Y_meas \n",
    "        outcomes[j] = M_meas\n",
    "    \n",
    "    return outcomes"
   ]
  },
  {
   "cell_type": "markdown",
   "metadata": {},
   "source": [
    "In this case, our circuits will simulate 32 qubit ising chains with $L = 200$ and $t = 10$."
   ]
  },
  {
   "cell_type": "code",
   "execution_count": null,
   "metadata": {},
   "outputs": [],
   "source": [
    "IsingCircuits = [IsingCircuit(32, j, 2, 200, 10) for j in j_vals]\n",
    "\n",
    "data = [] # a list of the measurement outcomes\n",
    "# mesaurement outcomes is a dictionary with J -> M(J)\n",
    "# run the 1000 sims 50 times, take the average\n",
    "# this takes 20 hours to run on a MBP, try importing the data.json file if interested.\n",
    "# SKIP THIS BLOCK IF YOU WANT TO AVOID LONG WAIT, AND RUN THE NEXT BLOCK INSTEAD.\n",
    "num_samples = 50\n",
    "for _ in range(num_samples):\n",
    "    results = run_circuit(IsingCircuits)\n",
    "    measurement_outcomes = get_measurement_outcomes(j_vals, results)\n",
    "    data.append(measurement_outcomes)\n",
    "    \n",
    "# Dump the JSON data\n",
    "with open('data.json', 'w') as outfile:\n",
    "    json.dump(data, outfile)"
   ]
  },
  {
   "cell_type": "code",
   "execution_count": null,
   "metadata": {},
   "outputs": [],
   "source": [
    "# RUN THIS BLOCK TO USE PAST DATA\n",
    "with open('data.json', 'r') as f:\n",
    "    data = json.load(f)\n",
    "    \n",
    "data"
   ]
  },
  {
   "cell_type": "code",
   "execution_count": null,
   "metadata": {},
   "outputs": [],
   "source": [
    "# get the average M(J) and std dev\n",
    "avg_data = dict() # J -> (M(J) stddev, M(J) avg)\n",
    "for j in list(map(str, j_vals)):\n",
    "    m_vals = []\n",
    "    for d in data:\n",
    "        m = d[j]\n",
    "        m_vals.append(m)\n",
    "    stddev = np.std(m_vals)\n",
    "    mean = np.mean(m_vals)\n",
    "    avg_data[j] = (stddev, mean)\n",
    "    \n",
    "avg_data"
   ]
  },
  {
   "cell_type": "code",
   "execution_count": null,
   "metadata": {},
   "outputs": [],
   "source": [
    "J, M = zip(*avg_data.items())\n",
    "J = list(map(float, J))\n",
    "stddev_M, mean_M = list(zip(*M)) \n",
    "print(\"J values:\", J)\n",
    "print(\"M(J) avg:\", mean_M)\n",
    "print(\"M(J) stddev:\", stddev_M)"
   ]
  },
  {
   "cell_type": "code",
   "execution_count": null,
   "metadata": {},
   "outputs": [],
   "source": [
    "# J, M = zip(*measurement_outcomes.items())\n",
    "# plt.plot(J, M, 'r+')\n",
    "# plt.xlim(0, 2)  # decreasing time\n",
    "# plt.grid(True)\n",
    "# plt.title('Cirq Quantum Compression')\n",
    "# plt.xlabel('J')\n",
    "# plt.ylabel('M(J)')\n",
    "# plt.xticks(list(np.linspace(0, 2, 5)))\n",
    "# plt.yticks(list(np.linspace(-1, 0, 6)))"
   ]
  },
  {
   "cell_type": "code",
   "execution_count": null,
   "metadata": {},
   "outputs": [],
   "source": [
    "# 50 runs of 1000 repetitions on circuit, plotted with avg and stddev\n",
    "plt.errorbar(J, mean_M, yerr=stddev_M, fmt='+', color='r',\n",
    "             ecolor='black', elinewidth=1, capsize=1);\n",
    "plt.xlim(-0.05, 2.05)  # decreasing time\n",
    "plt.grid(True)\n",
    "plt.title('Cirq Quantum Compression')\n",
    "plt.xlabel('J')\n",
    "plt.ylabel('M(J)')\n",
    "plt.xticks(list(np.linspace(0, 2, 5)))\n",
    "plt.yticks(list(np.linspace(-1, 0, 6)))\n",
    "plt.savefig('final_result.png', dpi=288)"
   ]
  },
  {
   "cell_type": "code",
   "execution_count": null,
   "metadata": {},
   "outputs": [],
   "source": []
  }
 ],
 "metadata": {
  "kernelspec": {
   "display_name": "Python 3",
   "language": "python",
   "name": "python3"
  },
  "language_info": {
   "codemirror_mode": {
    "name": "ipython",
    "version": 3
   },
   "file_extension": ".py",
   "mimetype": "text/x-python",
   "name": "python",
   "nbconvert_exporter": "python",
   "pygments_lexer": "ipython3",
   "version": "3.7.3"
  }
 },
 "nbformat": 4,
 "nbformat_minor": 2
}
